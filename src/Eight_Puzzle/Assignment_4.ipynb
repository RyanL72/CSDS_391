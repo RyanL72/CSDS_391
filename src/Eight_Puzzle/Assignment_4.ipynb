{
 "cells": [
  {
   "cell_type": "markdown",
   "metadata": {},
   "source": [
    "### State Checking for DFS"
   ]
  },
  {
   "cell_type": "markdown",
   "metadata": {},
   "source": [
    "Explanation in Assignment Document. (I already implemented state checking before)"
   ]
  },
  {
   "cell_type": "markdown",
   "metadata": {},
   "source": [
    "### Effective Branching Factor (scrambled 6 times)"
   ]
  },
  {
   "cell_type": "code",
   "execution_count": 4,
   "metadata": {},
   "outputs": [
    {
     "name": "stdout",
     "output_type": "stream",
     "text": [
      "Nodes created during search: 33\n",
      "Solution length: 32\n",
      "Move sequence:\n",
      "move left\n",
      "move left\n",
      "move down\n",
      "move down\n",
      "move right\n",
      "move up\n",
      "move up\n",
      "move left\n",
      "move down\n",
      "move down\n",
      "move right\n",
      "move up\n",
      "move up\n",
      "move left\n",
      "move down\n",
      "move down\n",
      "move right\n",
      "move up\n",
      "move up\n",
      "move left\n",
      "move down\n",
      "move down\n",
      "move right\n",
      "move up\n",
      "move up\n",
      "move left\n",
      "move down\n",
      "move down\n",
      "move right\n",
      "move up\n",
      "move left\n",
      "move up\n",
      "Effective Branching Factor: 0.9240209310886744\n",
      "Nodes created during search: 29\n",
      "Solution length: 4\n",
      "Move sequence:\n",
      "move left\n",
      "move down\n",
      "move left\n",
      "move up\n",
      "Effective Branching Factor: 1.978524610893575\n",
      "Solution found after exploring 5 nodes\n",
      "Solution path length: 4\n",
      "Path: ['left', 'down', 'left', 'up']\n",
      "Effective Branching Factor: 0.8533950737009451\n"
     ]
    },
    {
     "data": {
      "text/plain": [
       "['left', 'down', 'left', 'up']"
      ]
     },
     "execution_count": 4,
     "metadata": {},
     "output_type": "execute_result"
    }
   ],
   "source": [
    "from EightPuzzle import EightPuzzle\n",
    "puzzle = EightPuzzle()\n",
    "puzzle.scrambleState(6)\n",
    "puzzle1 = puzzle.copy()\n",
    "puzzle2 = puzzle.copy()\n",
    "puzzle3 = puzzle.copy()\n",
    "\n",
    "puzzle1.solveDFS()\n",
    "puzzle2.solveBFS()\n",
    "puzzle3.solveAStar(\"h1\")\n",
    "\n",
    "\n",
    "\n",
    "\n",
    "\n"
   ]
  },
  {
   "cell_type": "markdown",
   "metadata": {},
   "source": [
    "### Effective Branching Factor (scrambled 8 times)"
   ]
  },
  {
   "cell_type": "code",
   "execution_count": 17,
   "metadata": {},
   "outputs": [
    {
     "name": "stdout",
     "output_type": "stream",
     "text": [
      "Nodes created during search: 31\n",
      "Solution length: 30\n",
      "Move sequence:\n",
      "move up\n",
      "move up\n",
      "move right\n",
      "move down\n",
      "move left\n",
      "move up\n",
      "move right\n",
      "move down\n",
      "move left\n",
      "move up\n",
      "move right\n",
      "move down\n",
      "move down\n",
      "move left\n",
      "move up\n",
      "move up\n",
      "move right\n",
      "move down\n",
      "move left\n",
      "move up\n",
      "move right\n",
      "move down\n",
      "move left\n",
      "move up\n",
      "move right\n",
      "move down\n",
      "move down\n",
      "move left\n",
      "move up\n",
      "move up\n",
      "Effective Branching Factor: 0.9209408727486392\n",
      "Nodes created during search: 21\n",
      "Solution length: 4\n",
      "Move sequence:\n",
      "move right\n",
      "move up\n",
      "move left\n",
      "move up\n",
      "Effective Branching Factor: 1.7404458091582495\n",
      "Solution found after exploring 5 nodes\n",
      "Solution path length: 4\n",
      "Path: ['right', 'up', 'left', 'up']\n",
      "Effective Branching Factor: 0.8533950737009451\n"
     ]
    },
    {
     "data": {
      "text/plain": [
       "['right', 'up', 'left', 'up']"
      ]
     },
     "execution_count": 17,
     "metadata": {},
     "output_type": "execute_result"
    }
   ],
   "source": [
    "from EightPuzzle import EightPuzzle\n",
    "puzzle = EightPuzzle()\n",
    "puzzle.scrambleState(8)\n",
    "puzzle1 = puzzle.copy()\n",
    "puzzle2 = puzzle.copy()\n",
    "puzzle3 = puzzle.copy()\n",
    "\n",
    "puzzle1.solveDFS()\n",
    "puzzle2.solveBFS()\n",
    "puzzle3.solveAStar(\"h1\")"
   ]
  },
  {
   "cell_type": "markdown",
   "metadata": {},
   "source": [
    "### Effective Branching Factor (scrambled 12 times)"
   ]
  },
  {
   "cell_type": "code",
   "execution_count": 33,
   "metadata": {},
   "outputs": [
    {
     "name": "stdout",
     "output_type": "stream",
     "text": [
      "Nodes created during search: 11\n",
      "Solution length: 10\n",
      "Move sequence:\n",
      "move up\n",
      "move up\n",
      "move right\n",
      "move down\n",
      "move left\n",
      "move up\n",
      "move right\n",
      "move down\n",
      "move left\n",
      "move up\n",
      "Effective Branching Factor: 0.8600378411230949\n",
      "Nodes created during search: 29\n",
      "Solution length: 4\n",
      "Move sequence:\n",
      "move up\n",
      "move right\n",
      "move up\n",
      "move left\n",
      "Effective Branching Factor: 1.978524610893575\n",
      "Solution found after exploring 5 nodes\n",
      "Solution path length: 4\n",
      "Path: ['up', 'right', 'up', 'left']\n",
      "Effective Branching Factor: 0.8533950737009451\n"
     ]
    },
    {
     "data": {
      "text/plain": [
       "['up', 'right', 'up', 'left']"
      ]
     },
     "execution_count": 33,
     "metadata": {},
     "output_type": "execute_result"
    }
   ],
   "source": [
    "from EightPuzzle import EightPuzzle\n",
    "puzzle = EightPuzzle()\n",
    "puzzle.scrambleState(12)\n",
    "puzzle1 = puzzle.copy()\n",
    "puzzle2 = puzzle.copy()\n",
    "puzzle3 = puzzle.copy()\n",
    "\n",
    "puzzle1.solveDFS()\n",
    "puzzle2.solveBFS()\n",
    "puzzle3.solveAStar(\"h1\")"
   ]
  }
 ],
 "metadata": {
  "kernelspec": {
   "display_name": "venv",
   "language": "python",
   "name": "python3"
  },
  "language_info": {
   "codemirror_mode": {
    "name": "ipython",
    "version": 3
   },
   "file_extension": ".py",
   "mimetype": "text/x-python",
   "name": "python",
   "nbconvert_exporter": "python",
   "pygments_lexer": "ipython3",
   "version": "3.10.0"
  }
 },
 "nbformat": 4,
 "nbformat_minor": 2
}
