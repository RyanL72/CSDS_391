{
 "cells": [
  {
   "cell_type": "markdown",
   "metadata": {},
   "source": [
    "### State Checking for DFS"
   ]
  },
  {
   "cell_type": "markdown",
   "metadata": {},
   "source": [
    "Explanation in Assignment Document. (I already implemented state checking before)"
   ]
  },
  {
   "cell_type": "markdown",
   "metadata": {},
   "source": [
    "### Effective Branching Factor (scrambled 6 times)"
   ]
  },
  {
   "cell_type": "code",
   "execution_count": 1,
   "metadata": {},
   "outputs": [
    {
     "name": "stdout",
     "output_type": "stream",
     "text": [
      "Node limit 1000 reached, solution not found\n",
      "BFS results:\n",
      "Nodes created during search: 107\n",
      "Solution length: 6\n",
      "Effective Branching Factor: 1.8134586348402904\n",
      "Astar h1 results:\n",
      "Solution found after exploring 13 nodes\n",
      "Solution path length: 6\n",
      "Effective Branching Factor: 1.0775664040006325\n",
      "Astar h2 results:\n",
      "Solution found after exploring 9 nodes\n",
      "Solution path length: 6\n",
      "Effective Branching Factor: 0.9441168114864563\n"
     ]
    },
    {
     "data": {
      "text/plain": [
       "['left', 'down', 'right', 'up', 'up', 'left']"
      ]
     },
     "execution_count": 1,
     "metadata": {},
     "output_type": "execute_result"
    }
   ],
   "source": [
    "from EightPuzzle import EightPuzzle\n",
    "puzzle = EightPuzzle()\n",
    "puzzle.scrambleState(6)\n",
    "puzzle1 = puzzle.copy()\n",
    "puzzle2 = puzzle.copy()\n",
    "puzzle3 = puzzle.copy()\n",
    "puzzle4 = puzzle.copy()\n",
    "\n",
    "puzzle1.solveDFS()\n",
    "puzzle2.solveBFS()\n",
    "puzzle3.solveAStar(\"h1\")\n",
    "puzzle4.solveAStar(\"h2\")\n",
    "\n",
    "\n",
    "\n",
    "\n",
    "\n"
   ]
  },
  {
   "cell_type": "markdown",
   "metadata": {},
   "source": [
    "### Effective Branching Factor (scrambled 8 times)"
   ]
  },
  {
   "cell_type": "code",
   "execution_count": 2,
   "metadata": {},
   "outputs": [
    {
     "name": "stdout",
     "output_type": "stream",
     "text": [
      "Node limit 1000 reached, solution not found\n",
      "BFS results:\n",
      "Nodes created during search: 254\n",
      "Solution length: 8\n",
      "Effective Branching Factor: 1.6593462169162827\n",
      "Astar h1 results:\n",
      "Solution found after exploring 19 nodes\n",
      "Solution path length: 8\n",
      "Effective Branching Factor: 1.069424934896454\n",
      "Astar h2 results:\n",
      "Solution found after exploring 9 nodes\n",
      "Solution path length: 8\n",
      "Effective Branching Factor: 0.848781321468379\n"
     ]
    },
    {
     "data": {
      "text/plain": [
       "['left', 'left', 'down', 'right', 'right', 'up', 'left', 'left']"
      ]
     },
     "execution_count": 2,
     "metadata": {},
     "output_type": "execute_result"
    }
   ],
   "source": [
    "from EightPuzzle import EightPuzzle\n",
    "puzzle = EightPuzzle()\n",
    "puzzle.scrambleState(8)\n",
    "puzzle1 = puzzle.copy()\n",
    "puzzle2 = puzzle.copy()\n",
    "puzzle3 = puzzle.copy()\n",
    "puzzle4 = puzzle.copy()\n",
    "\n",
    "puzzle1.solveDFS()\n",
    "puzzle2.solveBFS()\n",
    "puzzle3.solveAStar(\"h1\")\n",
    "puzzle4.solveAStar(\"h2\")"
   ]
  },
  {
   "cell_type": "markdown",
   "metadata": {},
   "source": [
    "### Effective Branching Factor (scrambled 12 times)"
   ]
  },
  {
   "cell_type": "code",
   "execution_count": 3,
   "metadata": {},
   "outputs": [
    {
     "name": "stdout",
     "output_type": "stream",
     "text": [
      "Node limit 1000 reached, solution not found\n",
      "BFS results:\n",
      "Nodes created during search: 88\n",
      "Solution length: 6\n",
      "Effective Branching Factor: 1.7385104219093783\n",
      "Astar h1 results:\n",
      "Solution found after exploring 10 nodes\n",
      "Solution path length: 6\n",
      "Effective Branching Factor: 0.98395508463388\n",
      "Astar h2 results:\n",
      "Solution found after exploring 9 nodes\n",
      "Solution path length: 6\n",
      "Effective Branching Factor: 0.9441168114864563\n"
     ]
    },
    {
     "data": {
      "text/plain": [
       "['down', 'right', 'up', 'left', 'left', 'up']"
      ]
     },
     "execution_count": 3,
     "metadata": {},
     "output_type": "execute_result"
    }
   ],
   "source": [
    "from EightPuzzle import EightPuzzle\n",
    "puzzle = EightPuzzle()\n",
    "puzzle.scrambleState(12)\n",
    "puzzle1 = puzzle.copy()\n",
    "puzzle2 = puzzle.copy()\n",
    "puzzle3 = puzzle.copy()\n",
    "puzzle4 = puzzle.copy()\n",
    "\n",
    "puzzle1.solveDFS()\n",
    "puzzle2.solveBFS()\n",
    "puzzle3.solveAStar(\"h1\")\n",
    "puzzle4.solveAStar(\"h2\")"
   ]
  }
 ],
 "metadata": {
  "kernelspec": {
   "display_name": "venv",
   "language": "python",
   "name": "python3"
  },
  "language_info": {
   "codemirror_mode": {
    "name": "ipython",
    "version": 3
   },
   "file_extension": ".py",
   "mimetype": "text/x-python",
   "name": "python",
   "nbconvert_exporter": "python",
   "pygments_lexer": "ipython3",
   "version": "3.11.9"
  }
 },
 "nbformat": 4,
 "nbformat_minor": 2
}
