{
 "cells": [
  {
   "cell_type": "markdown",
   "metadata": {},
   "source": [
    "### State Checking for DFS"
   ]
  },
  {
   "cell_type": "markdown",
   "metadata": {},
   "source": [
    "Explanation in Assignment Document. (I already implemented state checking before)"
   ]
  },
  {
   "cell_type": "markdown",
   "metadata": {},
   "source": [
    "### Effective Branching Factor (scrambled 6 times)"
   ]
  },
  {
   "cell_type": "code",
   "execution_count": 18,
   "metadata": {},
   "outputs": [
    {
     "name": "stdout",
     "output_type": "stream",
     "text": [
      "DFS results:\n",
      "Nodes created during search: 953\n",
      "Solution length: 946\n",
      "Effective Branching Factor: 0.995080805749361\n",
      "BFS results:\n",
      "Nodes created during search: 17\n",
      "Solution length: 4\n",
      "Effective Branching Factor: 1.594801181897624\n",
      "Astar h1 results:\n",
      "Solution found after exploring 5 nodes\n",
      "Solution path length: 4\n",
      "Effective Branching Factor: 0.8533950737009451\n",
      "Astar h2 results:\n",
      "Solution found after exploring 5 nodes\n",
      "Solution path length: 4\n",
      "Effective Branching Factor: 0.8533950737009451\n"
     ]
    },
    {
     "data": {
      "text/plain": [
       "['left', 'left', 'up', 'up']"
      ]
     },
     "execution_count": 18,
     "metadata": {},
     "output_type": "execute_result"
    }
   ],
   "source": [
    "from EightPuzzle import EightPuzzle\n",
    "puzzle = EightPuzzle()\n",
    "puzzle.scrambleState(6)\n",
    "puzzle1 = puzzle.copy()\n",
    "puzzle2 = puzzle.copy()\n",
    "puzzle3 = puzzle.copy()\n",
    "puzzle4 = puzzle.copy()\n",
    "\n",
    "puzzle1.solveDFS()\n",
    "puzzle2.solveBFS()\n",
    "puzzle3.solveAStar(\"h1\")\n",
    "puzzle4.solveAStar(\"h2\")\n",
    "\n",
    "\n",
    "\n",
    "\n",
    "\n"
   ]
  },
  {
   "cell_type": "markdown",
   "metadata": {},
   "source": [
    "### Effective Branching Factor (scrambled 8 times)"
   ]
  },
  {
   "cell_type": "code",
   "execution_count": 23,
   "metadata": {},
   "outputs": [
    {
     "name": "stdout",
     "output_type": "stream",
     "text": [
      "DFS results:\n",
      "Nodes created during search: 11\n",
      "Solution length: 10\n",
      "Effective Branching Factor: 0.8600378411230949\n",
      "BFS results:\n",
      "Nodes created during search: 29\n",
      "Solution length: 4\n",
      "Effective Branching Factor: 1.978524610893575\n",
      "Astar h1 results:\n",
      "Solution found after exploring 5 nodes\n",
      "Solution path length: 4\n",
      "Effective Branching Factor: 0.8533950737009451\n",
      "Astar h2 results:\n",
      "Solution found after exploring 5 nodes\n",
      "Solution path length: 4\n",
      "Effective Branching Factor: 0.8533950737009451\n"
     ]
    },
    {
     "data": {
      "text/plain": [
       "['up', 'right', 'up', 'left']"
      ]
     },
     "execution_count": 23,
     "metadata": {},
     "output_type": "execute_result"
    }
   ],
   "source": [
    "from EightPuzzle import EightPuzzle\n",
    "puzzle = EightPuzzle()\n",
    "puzzle.scrambleState(8)\n",
    "puzzle1 = puzzle.copy()\n",
    "puzzle2 = puzzle.copy()\n",
    "puzzle3 = puzzle.copy()\n",
    "puzzle4 = puzzle.copy()\n",
    "\n",
    "puzzle1.solveDFS()\n",
    "puzzle2.solveBFS()\n",
    "puzzle3.solveAStar(\"h1\")\n",
    "puzzle4.solveAStar(\"h2\")"
   ]
  },
  {
   "cell_type": "markdown",
   "metadata": {},
   "source": [
    "### Effective Branching Factor (scrambled 12 times)"
   ]
  },
  {
   "cell_type": "code",
   "execution_count": 28,
   "metadata": {},
   "outputs": [
    {
     "name": "stdout",
     "output_type": "stream",
     "text": [
      "DFS results:\n",
      "Nodes created during search: 27\n",
      "Solution length: 26\n",
      "Effective Branching Factor: 0.9138209317012317\n",
      "BFS results:\n",
      "Nodes created during search: 29\n",
      "Solution length: 4\n",
      "Effective Branching Factor: 1.978524610893575\n",
      "Astar h1 results:\n",
      "Solution found after exploring 5 nodes\n",
      "Solution path length: 4\n",
      "Effective Branching Factor: 0.8533950737009451\n",
      "Astar h2 results:\n",
      "Solution found after exploring 5 nodes\n",
      "Solution path length: 4\n",
      "Effective Branching Factor: 0.8533950737009451\n"
     ]
    },
    {
     "data": {
      "text/plain": [
       "['down', 'left', 'up', 'up']"
      ]
     },
     "execution_count": 28,
     "metadata": {},
     "output_type": "execute_result"
    }
   ],
   "source": [
    "from EightPuzzle import EightPuzzle\n",
    "puzzle = EightPuzzle()\n",
    "puzzle.scrambleState(12)\n",
    "puzzle1 = puzzle.copy()\n",
    "puzzle2 = puzzle.copy()\n",
    "puzzle3 = puzzle.copy()\n",
    "puzzle4 = puzzle.copy()\n",
    "\n",
    "puzzle1.solveDFS()\n",
    "puzzle2.solveBFS()\n",
    "puzzle3.solveAStar(\"h1\")\n",
    "puzzle4.solveAStar(\"h2\")"
   ]
  }
 ],
 "metadata": {
  "kernelspec": {
   "display_name": "venv",
   "language": "python",
   "name": "python3"
  },
  "language_info": {
   "codemirror_mode": {
    "name": "ipython",
    "version": 3
   },
   "file_extension": ".py",
   "mimetype": "text/x-python",
   "name": "python",
   "nbconvert_exporter": "python",
   "pygments_lexer": "ipython3",
   "version": "3.10.0"
  }
 },
 "nbformat": 4,
 "nbformat_minor": 2
}
