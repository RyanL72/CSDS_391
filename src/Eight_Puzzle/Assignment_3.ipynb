{
 "cells": [
  {
   "cell_type": "code",
   "execution_count": 1,
   "metadata": {},
   "outputs": [],
   "source": [
    "from EightPuzzle import EightPuzzle"
   ]
  },
  {
   "cell_type": "markdown",
   "metadata": {},
   "source": [
    "### Heuristic 1 and Heuristic 2\n",
    "\n",
    "h1: How many tiles were out of place. \n",
    "h2: Manhattan distance of the 8 puzzle"
   ]
  },
  {
   "cell_type": "code",
   "execution_count": 2,
   "metadata": {},
   "outputs": [
    {
     "name": "stdout",
     "output_type": "stream",
     "text": [
      "Running command: printState\n",
      "  1 2\n",
      "3 4 5\n",
      "6 7 8\n",
      "Running command: scrambleState 10\n",
      "Running command: printState\n",
      "1 2 5\n",
      "3 4 8\n",
      "6 7  \n",
      "Running command: heuristics h1\n",
      "4\n",
      "Running command: heuristics h2\n",
      "4\n"
     ]
    }
   ],
   "source": [
    "puzzle = EightPuzzle()\n",
    "puzzle.cmdfile(\"testcmds3.txt\")"
   ]
  },
  {
   "cell_type": "markdown",
   "metadata": {},
   "source": [
    "#### Excercise 5 State Tracking\n",
    "\n",
    "For some methods like scrambling, I would not want state checking to be on so I made it so history tracking is only possible if I toggled it. In the demo below I moved to the right once, asked it if it is an unexplored state, it was so it returned true. Then I moved it to the right again and then left, returning to the previous position. When I asked it again if it is an unexplored state, it returned false. This proves I am able to check for repeated states."
   ]
  },
  {
   "cell_type": "code",
   "execution_count": 3,
   "metadata": {},
   "outputs": [
    {
     "name": "stdout",
     "output_type": "stream",
     "text": [
      "  1 2\n",
      "3 4 5\n",
      "6 7 8\n",
      "1   2\n",
      "3 4 5\n",
      "6 7 8\n",
      "True\n",
      "1   2\n",
      "3 4 5\n",
      "6 7 8\n",
      "False\n"
     ]
    }
   ],
   "source": [
    "puzzle2 = EightPuzzle()\n",
    "puzzle2.startStateTracking()\n",
    "puzzle2.printState()\n",
    "puzzle2.move(\"right\")\n",
    "puzzle2.printState()\n",
    "print(puzzle2.isUnexploredState())\n",
    "puzzle2.move(\"right\")\n",
    "puzzle2.move(\"left\")\n",
    "puzzle2.printState()\n",
    "print(puzzle2.isUnexploredState())"
   ]
  }
 ],
 "metadata": {
  "kernelspec": {
   "display_name": "Python 3",
   "language": "python",
   "name": "python3"
  },
  "language_info": {
   "codemirror_mode": {
    "name": "ipython",
    "version": 3
   },
   "file_extension": ".py",
   "mimetype": "text/x-python",
   "name": "python",
   "nbconvert_exporter": "python",
   "pygments_lexer": "ipython3",
   "version": "3.10.0"
  }
 },
 "nbformat": 4,
 "nbformat_minor": 2
}
