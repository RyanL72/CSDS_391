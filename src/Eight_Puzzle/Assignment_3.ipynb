{
 "cells": [
  {
   "cell_type": "code",
   "execution_count": 1,
   "metadata": {},
   "outputs": [],
   "source": [
    "from EightPuzzle import EightPuzzle"
   ]
  },
  {
   "cell_type": "markdown",
   "metadata": {},
   "source": [
    "### Heuristic 1 and Heuristic 2\n",
    "\n",
    "h1: How many tiles were out of place. \n",
    "h2: Manhattan histance of the 8 puzzle"
   ]
  },
  {
   "cell_type": "code",
   "execution_count": 2,
   "metadata": {},
   "outputs": [
    {
     "name": "stdout",
     "output_type": "stream",
     "text": [
      "Running command: printState\n",
      "  1 2\n",
      "3 4 5\n",
      "6 7 8\n",
      "Running command: scrambleState 10\n",
      "Running command: printState\n",
      "  1 2\n",
      "3 4 5\n",
      "6 7 8\n",
      "Running command: heuristics h1\n",
      "0\n",
      "Running command: heuristics h2\n",
      "0\n"
     ]
    }
   ],
   "source": [
    "puzzle = EightPuzzle()\n",
    "puzzle.cmdfile(\"testcmds3.txt\")"
   ]
  },
  {
   "cell_type": "markdown",
   "metadata": {},
   "source": [
    "#### Excercise 5 State Tracking"
   ]
  },
  {
   "cell_type": "code",
   "execution_count": 3,
   "metadata": {},
   "outputs": [
    {
     "name": "stdout",
     "output_type": "stream",
     "text": [
      "  1 2\n",
      "3 4 5\n",
      "6 7 8\n",
      "1   2\n",
      "3 4 5\n",
      "6 7 8\n"
     ]
    },
    {
     "data": {
      "text/plain": [
       "True"
      ]
     },
     "execution_count": 3,
     "metadata": {},
     "output_type": "execute_result"
    }
   ],
   "source": [
    "puzzle2 = EightPuzzle()\n",
    "puzzle2.startStateTracking()\n",
    "puzzle2.printState()\n",
    "puzzle2.move(\"right\")\n",
    "puzzle2.printState()\n",
    "puzzle.isUnexploredState()\n",
    "puzzle2.move(\"right\")\n",
    "puzzle2.move(\"left\")\n",
    "puzzle2.printState()\n",
    "puzzle.isUnexploredState()"
   ]
  }
 ],
 "metadata": {
  "kernelspec": {
   "display_name": "Python 3",
   "language": "python",
   "name": "python3"
  },
  "language_info": {
   "codemirror_mode": {
    "name": "ipython",
    "version": 3
   },
   "file_extension": ".py",
   "mimetype": "text/x-python",
   "name": "python",
   "nbconvert_exporter": "python",
   "pygments_lexer": "ipython3",
   "version": "3.11.9"
  }
 },
 "nbformat": 4,
 "nbformat_minor": 2
}
