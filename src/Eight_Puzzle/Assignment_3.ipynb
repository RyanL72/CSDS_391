{
 "cells": [
  {
   "cell_type": "code",
   "execution_count": 1,
   "metadata": {},
   "outputs": [],
   "source": [
    "from EightPuzzle import EightPuzzle"
   ]
  },
  {
   "cell_type": "markdown",
   "metadata": {},
   "source": [
    "### Heuristic 1 and Heuristic 2\n",
    "\n",
    "h1: How many tiles were out of place. \n",
    "h2: Manhattan histance of the 8 puzzle"
   ]
  },
  {
   "cell_type": "code",
   "execution_count": 2,
   "metadata": {},
   "outputs": [
    {
     "name": "stdout",
     "output_type": "stream",
     "text": [
      "Running command: printState\n",
      "  1 2\n",
      "3 4 5\n",
      "6 7 8\n",
      "Running command: scrambleState 10\n",
      "Running command: printState\n",
      "3 1 2\n",
      "7 6 5\n",
      "  4 8\n",
      "Running command: heuristics h1\n",
      "4\n",
      "Running command: heuristics h2\n",
      "6\n"
     ]
    }
   ],
   "source": [
    "puzzle = EightPuzzle()\n",
    "puzzle.cmdfile(\"testcmds3.txt\")"
   ]
  },
  {
   "cell_type": "markdown",
   "metadata": {},
   "source": [
    "### Excercise 5 \n",
    "Repreated State Checking: I created a puzzle and moved it to the left once so there are two explored states and I printed the set. It shows that I have been keeping track of its history and I demonstrate the method I created that checks the set if the node is unexplored."
   ]
  },
  {
   "cell_type": "code",
   "execution_count": 3,
   "metadata": {},
   "outputs": [
    {
     "name": "stdout",
     "output_type": "stream",
     "text": [
      "1 2  \n",
      "3 4 5\n",
      "6 7 8\n",
      "1   2\n",
      "3 4 5\n",
      "6 7 8\n",
      "{'1 0 2 3 4 5 6 7 8', '1 2 0 3 4 5 6 7 8'}\n",
      "Checking state: [[1,2,0,],[3,4,5],[6,7,8]] False\n",
      "Checking state: [[0,1,2,],[3,4,5],[6,7,8]] True\n"
     ]
    }
   ],
   "source": [
    "puzzle2 = EightPuzzle(([1,2,0,],[3,4,5],[6,7,8]))\n",
    "puzzle2.printState()\n",
    "puzzle2.move(\"left\")\n",
    "puzzle2.printState()\n",
    "puzzle2.printHistory()\n",
    "print(f\"Checking state: [[1,2,0,],[3,4,5],[6,7,8]] {puzzle2.isUnexploredState(([1,2,0,],[3,4,5],[6,7,8]))}\")\n",
    "print(f\"Checking state: [[0,1,2,],[3,4,5],[6,7,8]] {puzzle2.isUnexploredState(([0,1,2,],[3,4,5],[6,7,8]))}\")\n",
    "\n"
   ]
  }
 ],
 "metadata": {
  "kernelspec": {
   "display_name": "Python 3",
   "language": "python",
   "name": "python3"
  },
  "language_info": {
   "codemirror_mode": {
    "name": "ipython",
    "version": 3
   },
   "file_extension": ".py",
   "mimetype": "text/x-python",
   "name": "python",
   "nbconvert_exporter": "python",
   "pygments_lexer": "ipython3",
   "version": "3.11.9"
  }
 },
 "nbformat": 4,
 "nbformat_minor": 2
}
