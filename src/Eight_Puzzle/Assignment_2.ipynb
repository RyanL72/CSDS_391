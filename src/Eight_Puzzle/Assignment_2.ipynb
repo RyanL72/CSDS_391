{
 "cells": [
  {
   "cell_type": "code",
   "execution_count": 1,
   "metadata": {},
   "outputs": [],
   "source": [
    "from EightPuzzle import EightPuzzle"
   ]
  },
  {
   "cell_type": "code",
   "execution_count": 2,
   "metadata": {},
   "outputs": [
    {
     "name": "stdout",
     "output_type": "stream",
     "text": [
      "True\n"
     ]
    }
   ],
   "source": [
    "puzzle = EightPuzzle()\n",
    "print(puzzle.isSolved())"
   ]
  },
  {
   "cell_type": "markdown",
   "metadata": {},
   "source": [
    "### cmdfile"
   ]
  },
  {
   "cell_type": "code",
   "execution_count": 3,
   "metadata": {},
   "outputs": [
    {
     "name": "stdout",
     "output_type": "stream",
     "text": [
      "Comment: # Scramble the puzzle with 10 moves\n",
      "Running command: scrambleState 10\n",
      "Skipping empty line\n",
      "Comment: // Print the scrambled puzzle state\n",
      "Running command: printState\n",
      "  1 2\n",
      "3 4 5\n",
      "6 7 8\n",
      "Skipping empty line\n",
      "Comment: # Solve the puzzle using DFS with max_nodes = 1000\n",
      "Running command: solveDFS 1000\n",
      "Nodes created during search: 1\n",
      "Solution length: 0\n",
      "Move sequence:\n",
      "Skipping empty line\n",
      "Comment: // Print the puzzle state after DFS\n",
      "Running command: printState\n",
      "  1 2\n",
      "3 4 5\n",
      "6 7 8\n",
      "Skipping empty line\n",
      "Comment: # Scramble the puzzle again with 10 moves\n",
      "Running command: scrambleState 10\n",
      "Skipping empty line\n",
      "Comment: # Print the scrambled puzzle state again\n",
      "Running command: printState\n",
      "3 1 2\n",
      "6 4 5\n",
      "7 8  \n",
      "Skipping empty line\n",
      "Comment: // Solve the puzzle using BFS with max_nodes = 1000\n",
      "Running command: solveBFS 1000\n",
      "Nodes created during search: 17\n",
      "Solution length: 4\n",
      "Move sequence:\n",
      "move left\n",
      "move left\n",
      "move up\n",
      "move up\n",
      "Skipping empty line\n",
      "Comment: # Print the puzzle state after BFS\n",
      "Running command: printState\n",
      "3 1 2\n",
      "6 4 5\n",
      "7 8  \n"
     ]
    }
   ],
   "source": [
    "puzzle = EightPuzzle()\n",
    "puzzle.cmdfile(\"testcmds2.txt\")"
   ]
  }
 ],
 "metadata": {
  "kernelspec": {
   "display_name": "Python 3",
   "language": "python",
   "name": "python3"
  },
  "language_info": {
   "codemirror_mode": {
    "name": "ipython",
    "version": 3
   },
   "file_extension": ".py",
   "mimetype": "text/x-python",
   "name": "python",
   "nbconvert_exporter": "python",
   "pygments_lexer": "ipython3",
   "version": "3.11.9"
  }
 },
 "nbformat": 4,
 "nbformat_minor": 2
}
