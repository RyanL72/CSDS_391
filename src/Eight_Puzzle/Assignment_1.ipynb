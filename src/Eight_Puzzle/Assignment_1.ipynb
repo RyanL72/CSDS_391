{
 "cells": [
  {
   "cell_type": "code",
   "execution_count": 5,
   "metadata": {},
   "outputs": [],
   "source": [
    "from EightPuzzle import EightPuzzle"
   ]
  },
  {
   "cell_type": "markdown",
   "metadata": {},
   "source": [
    "# Eight Puzzle Implementation"
   ]
  },
  {
   "cell_type": "markdown",
   "metadata": {},
   "source": [
    "### printState()"
   ]
  },
  {
   "cell_type": "code",
   "execution_count": 6,
   "metadata": {},
   "outputs": [
    {
     "name": "stdout",
     "output_type": "stream",
     "text": [
      "  1 2\n",
      "3 4 5\n",
      "6 7 8\n"
     ]
    }
   ],
   "source": [
    "puzzle = EightPuzzle()\n",
    "puzzle.printState()\n"
   ]
  },
  {
   "cell_type": "markdown",
   "metadata": {},
   "source": [
    "### setState()"
   ]
  },
  {
   "cell_type": "code",
   "execution_count": 7,
   "metadata": {},
   "outputs": [
    {
     "name": "stdout",
     "output_type": "stream",
     "text": [
      "1 2 3\n",
      "4   5\n",
      "6 7 8\n"
     ]
    }
   ],
   "source": [
    "puzzle.setState([[1, 2, 3], [4, 0, 5], [6, 7, 8]])\n",
    "puzzle.printState()\n"
   ]
  },
  {
   "cell_type": "code",
   "execution_count": 8,
   "metadata": {},
   "outputs": [
    {
     "ename": "ValueError",
     "evalue": "Invalid Puzzle Configuration",
     "output_type": "error",
     "traceback": [
      "\u001b[1;31m---------------------------------------------------------------------------\u001b[0m",
      "\u001b[1;31mValueError\u001b[0m                                Traceback (most recent call last)",
      "Cell \u001b[1;32mIn[8], line 1\u001b[0m\n\u001b[1;32m----> 1\u001b[0m \u001b[43mpuzzle\u001b[49m\u001b[38;5;241;43m.\u001b[39;49m\u001b[43msetState\u001b[49m\u001b[43m(\u001b[49m\u001b[43m[\u001b[49m\u001b[43m[\u001b[49m\u001b[38;5;241;43m1\u001b[39;49m\u001b[43m,\u001b[49m\u001b[43m \u001b[49m\u001b[38;5;241;43m2\u001b[39;49m\u001b[43m,\u001b[49m\u001b[43m \u001b[49m\u001b[38;5;241;43m3\u001b[39;49m\u001b[43m]\u001b[49m\u001b[43m,\u001b[49m\u001b[43m \u001b[49m\u001b[43m[\u001b[49m\u001b[38;5;241;43m4\u001b[39;49m\u001b[43m,\u001b[49m\u001b[43m \u001b[49m\u001b[38;5;241;43m0\u001b[39;49m\u001b[43m,\u001b[49m\u001b[43m \u001b[49m\u001b[38;5;241;43m0\u001b[39;49m\u001b[43m]\u001b[49m\u001b[43m,\u001b[49m\u001b[43m \u001b[49m\u001b[43m[\u001b[49m\u001b[38;5;241;43m6\u001b[39;49m\u001b[43m,\u001b[49m\u001b[43m \u001b[49m\u001b[38;5;241;43m7\u001b[39;49m\u001b[43m,\u001b[49m\u001b[43m \u001b[49m\u001b[38;5;241;43m8\u001b[39;49m\u001b[43m]\u001b[49m\u001b[43m]\u001b[49m\u001b[43m)\u001b[49m\n\u001b[0;32m      2\u001b[0m puzzle\u001b[38;5;241m.\u001b[39mprintState()\n",
      "File \u001b[1;32mc:\\Users\\Ryan\\CSDS_391\\src\\Eight_Puzzle\\EightPuzzle.py:29\u001b[0m, in \u001b[0;36mEightPuzzle.setState\u001b[1;34m(self, newPuzzleConfiguration)\u001b[0m\n\u001b[0;32m     28\u001b[0m \u001b[38;5;28;01mdef\u001b[39;00m \u001b[38;5;21msetState\u001b[39m(\u001b[38;5;28mself\u001b[39m, newPuzzleConfiguration):\n\u001b[1;32m---> 29\u001b[0m     \u001b[38;5;28;43mself\u001b[39;49m\u001b[38;5;241;43m.\u001b[39;49m\u001b[43mcheckConfiguration\u001b[49m\u001b[43m(\u001b[49m\u001b[43mnewPuzzleConfiguration\u001b[49m\u001b[43m)\u001b[49m\n\u001b[0;32m     30\u001b[0m     \u001b[38;5;28mself\u001b[39m\u001b[38;5;241m.\u001b[39m__puzzleConfiguration \u001b[38;5;241m=\u001b[39m newPuzzleConfiguration\n\u001b[0;32m     31\u001b[0m     \u001b[38;5;28mself\u001b[39m\u001b[38;5;241m.\u001b[39mupdateZeroPosition()\n",
      "File \u001b[1;32mc:\\Users\\Ryan\\CSDS_391\\src\\Eight_Puzzle\\EightPuzzle.py:202\u001b[0m, in \u001b[0;36mEightPuzzle.checkConfiguration\u001b[1;34m(self, configuration)\u001b[0m\n\u001b[0;32m    200\u001b[0m     \u001b[38;5;28;01mpass\u001b[39;00m\n\u001b[0;32m    201\u001b[0m \u001b[38;5;28;01melse\u001b[39;00m:\n\u001b[1;32m--> 202\u001b[0m     \u001b[38;5;28;01mraise\u001b[39;00m \u001b[38;5;167;01mValueError\u001b[39;00m(\u001b[38;5;124m\"\u001b[39m\u001b[38;5;124mInvalid Puzzle Configuration\u001b[39m\u001b[38;5;124m\"\u001b[39m)\n",
      "\u001b[1;31mValueError\u001b[0m: Invalid Puzzle Configuration"
     ]
    }
   ],
   "source": [
    "puzzle.setState([[1, 2, 3], [4, 0, 0], [6, 7, 8]])\n",
    "puzzle.printState()"
   ]
  },
  {
   "cell_type": "markdown",
   "metadata": {},
   "source": [
    "### move()"
   ]
  },
  {
   "cell_type": "markdown",
   "metadata": {},
   "source": [
    "right"
   ]
  },
  {
   "cell_type": "code",
   "execution_count": 9,
   "metadata": {},
   "outputs": [
    {
     "name": "stdout",
     "output_type": "stream",
     "text": [
      "1   2\n",
      "3 4 5\n",
      "6 7 8\n"
     ]
    }
   ],
   "source": [
    "puzzle.setState([[0,1,2],[3,4,5],[6,7,8]])\n",
    "puzzle.move(\"right\")\n",
    "puzzle.printState()\n"
   ]
  },
  {
   "cell_type": "markdown",
   "metadata": {},
   "source": [
    "left"
   ]
  },
  {
   "cell_type": "code",
   "execution_count": 10,
   "metadata": {},
   "outputs": [
    {
     "name": "stdout",
     "output_type": "stream",
     "text": [
      "  1 2\n",
      "3 4 5\n",
      "6 7 8\n"
     ]
    }
   ],
   "source": [
    "puzzle.move(\"Left\")\n",
    "puzzle.printState()\n"
   ]
  },
  {
   "cell_type": "markdown",
   "metadata": {},
   "source": [
    "down"
   ]
  },
  {
   "cell_type": "code",
   "execution_count": 11,
   "metadata": {},
   "outputs": [
    {
     "name": "stdout",
     "output_type": "stream",
     "text": [
      "3 1 2\n",
      "  4 5\n",
      "6 7 8\n"
     ]
    }
   ],
   "source": [
    "puzzle.move(\"dOwn\")\n",
    "puzzle.printState()"
   ]
  },
  {
   "cell_type": "markdown",
   "metadata": {},
   "source": [
    "up"
   ]
  },
  {
   "cell_type": "code",
   "execution_count": 12,
   "metadata": {},
   "outputs": [
    {
     "name": "stdout",
     "output_type": "stream",
     "text": [
      "  1 2\n",
      "3 4 5\n",
      "6 7 8\n"
     ]
    }
   ],
   "source": [
    "puzzle.move(\"Up\")\n",
    "puzzle.printState()"
   ]
  },
  {
   "cell_type": "markdown",
   "metadata": {},
   "source": [
    "up (going out)"
   ]
  },
  {
   "cell_type": "code",
   "execution_count": 13,
   "metadata": {},
   "outputs": [
    {
     "ename": "ValueError",
     "evalue": "The Current Position is (0, 0) and we can't go up",
     "output_type": "error",
     "traceback": [
      "\u001b[1;31m---------------------------------------------------------------------------\u001b[0m",
      "\u001b[1;31mValueError\u001b[0m                                Traceback (most recent call last)",
      "Cell \u001b[1;32mIn[13], line 1\u001b[0m\n\u001b[1;32m----> 1\u001b[0m \u001b[43mpuzzle\u001b[49m\u001b[38;5;241;43m.\u001b[39;49m\u001b[43mmove\u001b[49m\u001b[43m(\u001b[49m\u001b[38;5;124;43m\"\u001b[39;49m\u001b[38;5;124;43mUp\u001b[39;49m\u001b[38;5;124;43m\"\u001b[39;49m\u001b[43m)\u001b[49m\n\u001b[0;32m      2\u001b[0m puzzle\u001b[38;5;241m.\u001b[39mprintState()\n",
      "File \u001b[1;32mc:\\Users\\Ryan\\CSDS_391\\src\\Eight_Puzzle\\EightPuzzle.py:114\u001b[0m, in \u001b[0;36mEightPuzzle.move\u001b[1;34m(self, direction)\u001b[0m\n\u001b[0;32m    111\u001b[0m             \u001b[38;5;28mself\u001b[39m\u001b[38;5;241m.\u001b[39msetState(newState)\n\u001b[0;32m    112\u001b[0m             \u001b[38;5;28;01mreturn\u001b[39;00m\n\u001b[1;32m--> 114\u001b[0m \u001b[38;5;28;01mraise\u001b[39;00m \u001b[38;5;167;01mValueError\u001b[39;00m(\u001b[38;5;124mf\u001b[39m\u001b[38;5;124m\"\u001b[39m\u001b[38;5;124mThe Current Position is \u001b[39m\u001b[38;5;132;01m{\u001b[39;00m\u001b[38;5;28mself\u001b[39m\u001b[38;5;241m.\u001b[39mgetZeroPosition()\u001b[38;5;132;01m}\u001b[39;00m\u001b[38;5;124m and we can\u001b[39m\u001b[38;5;124m'\u001b[39m\u001b[38;5;124mt go \u001b[39m\u001b[38;5;132;01m{\u001b[39;00mdirectionLowerCase\u001b[38;5;132;01m}\u001b[39;00m\u001b[38;5;124m\"\u001b[39m)\n",
      "\u001b[1;31mValueError\u001b[0m: The Current Position is (0, 0) and we can't go up"
     ]
    }
   ],
   "source": [
    "puzzle.move(\"Up\")\n",
    "puzzle.printState()"
   ]
  },
  {
   "cell_type": "code",
   "execution_count": 14,
   "metadata": {},
   "outputs": [
    {
     "name": "stdout",
     "output_type": "stream",
     "text": [
      "1   2\n",
      "3 4 5\n",
      "6 7 8\n"
     ]
    }
   ],
   "source": [
    "puzzle = EightPuzzle()\n",
    "puzzle.cmd('move Right')\n",
    "puzzle.printState()"
   ]
  },
  {
   "cell_type": "markdown",
   "metadata": {},
   "source": [
    "### scrambleState()"
   ]
  },
  {
   "cell_type": "code",
   "execution_count": 15,
   "metadata": {},
   "outputs": [
    {
     "name": "stdout",
     "output_type": "stream",
     "text": [
      "  1 2\n",
      "3 4 5\n",
      "6 7 8\n",
      "------------\n",
      "3 1 2\n",
      "  4 5\n",
      "6 7 8\n",
      "------------\n",
      "3 1 2\n",
      "6 4 5\n",
      "  7 8\n",
      "------------\n",
      "  1 4\n",
      "2 3 5\n",
      "6 7 8\n"
     ]
    }
   ],
   "source": [
    "puzzle = EightPuzzle()\n",
    "puzzle.printState()\n",
    "\n",
    "print(\"------------\")\n",
    "\n",
    "puzzle = EightPuzzle()\n",
    "puzzle.scrambleState(1)\n",
    "puzzle.printState()\n",
    "\n",
    "print(\"------------\")\n",
    "puzzle = EightPuzzle()\n",
    "puzzle.scrambleState(2)\n",
    "puzzle.printState()\n",
    "\n",
    "print(\"------------\")\n",
    "puzzle = EightPuzzle()\n",
    "puzzle.scrambleState(100)\n",
    "puzzle.printState()\n",
    "\n"
   ]
  },
  {
   "cell_type": "markdown",
   "metadata": {},
   "source": [
    "### cmd()"
   ]
  },
  {
   "cell_type": "code",
   "execution_count": 16,
   "metadata": {},
   "outputs": [
    {
     "name": "stdout",
     "output_type": "stream",
     "text": [
      "1 2 3\n",
      "4   5\n",
      "6 7 8\n",
      "--------\n",
      "1 2 3\n",
      "  4 5\n",
      "6 7 8\n",
      "--------\n",
      "1 2 3\n",
      "4   5\n",
      "6 7 8\n"
     ]
    }
   ],
   "source": [
    "puzzle = EightPuzzle()\n",
    "puzzle.cmd('setState 1 2 3 4 0 5 6 7 8')\n",
    "puzzle.cmd('printState')\n",
    "\n",
    "print(\"--------\")\n",
    "\n",
    "puzzle.cmd('move left')\n",
    "puzzle.cmd('printState')\n",
    "\n",
    "print(\"--------\")\n",
    "\n",
    "puzzle.cmd('move right')\n",
    "puzzle.printState()"
   ]
  },
  {
   "cell_type": "markdown",
   "metadata": {},
   "source": [
    "### cmdfile()"
   ]
  },
  {
   "cell_type": "code",
   "execution_count": 17,
   "metadata": {},
   "outputs": [
    {
     "name": "stdout",
     "output_type": "stream",
     "text": [
      "1 2 3\n",
      "4   5\n",
      "6 7 8\n",
      "1 2 3\n",
      "  4 5\n",
      "6 7 8\n",
      "  2 3\n",
      "1 4 5\n",
      "6 7 8\n",
      "The Current Position is (0, 0) and we can't go up\n",
      "3 1 2\n",
      "  4 5\n",
      "6 7 8\n",
      "3 1 2\n",
      "4   5\n",
      "6 7 8\n"
     ]
    }
   ],
   "source": [
    "puzzle.cmdfile(\"testcmds.txt\")"
   ]
  }
 ],
 "metadata": {
  "kernelspec": {
   "display_name": "venv",
   "language": "python",
   "name": "python3"
  },
  "language_info": {
   "codemirror_mode": {
    "name": "ipython",
    "version": 3
   },
   "file_extension": ".py",
   "mimetype": "text/x-python",
   "name": "python",
   "nbconvert_exporter": "python",
   "pygments_lexer": "ipython3",
   "version": "3.11.9"
  }
 },
 "nbformat": 4,
 "nbformat_minor": 2
}
